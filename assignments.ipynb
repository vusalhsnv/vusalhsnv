{
 "cells": [
  {
   "cell_type": "code",
   "execution_count": 10,
   "id": "0c9b06e4-1c07-4e6a-b483-ac263159d992",
   "metadata": {
    "tags": []
   },
   "outputs": [
    {
     "name": "stdin",
     "output_type": "stream",
     "text": [
      " 5\n",
      " 16\n"
     ]
    },
    {
     "name": "stdout",
     "output_type": "stream",
     "text": [
      "1\n"
     ]
    }
   ],
   "source": [
    "#1\n",
    "\n",
    "n = int(input())\n",
    "k = int(input())\n",
    "\n",
    "remaining = k%n\n",
    "print(remaining)"
   ]
  },
  {
   "cell_type": "code",
   "execution_count": 9,
   "id": "9e0ffa4d-c68a-4434-8258-9debb81b5df3",
   "metadata": {},
   "outputs": [
    {
     "name": "stdin",
     "output_type": "stream",
     "text": [
      "Any number 222\n"
     ]
    },
    {
     "name": "stdout",
     "output_type": "stream",
     "text": [
      "Product is 8.\n"
     ]
    }
   ],
   "source": [
    "num = int(input('Any number'))\n",
    "mult = 1\n",
    "\n",
    "while num>0:\n",
    "    digit = num % 10\n",
    "    mult = digit*mult\n",
    "    num = num//10\n",
    "    \n",
    "print(f'Product is {mult}.')\n",
    "    \n"
   ]
  },
  {
   "cell_type": "code",
   "execution_count": 11,
   "id": "7dbe48fe-301d-4c3d-abf7-fe554a82ee9b",
   "metadata": {},
   "outputs": [
    {
     "name": "stdin",
     "output_type": "stream",
     "text": [
      " 2\n",
      " 5\n"
     ]
    },
    {
     "name": "stdout",
     "output_type": "stream",
     "text": [
      "14\n"
     ]
    }
   ],
   "source": [
    "\n",
    "sum = 0\n",
    "a = int(input())\n",
    "b = int(input())\n",
    "\n",
    "for i in range(a,b+1):\n",
    "    sum += i\n",
    "    \n",
    "print(sum)\n",
    "    "
   ]
  },
  {
   "cell_type": "code",
   "execution_count": 15,
   "id": "cabbdc4f-89db-428a-a346-76fdd1bb13c2",
   "metadata": {},
   "outputs": [
    {
     "name": "stdin",
     "output_type": "stream",
     "text": [
      "Enter numbers of liers 3\n"
     ]
    },
    {
     "name": "stdout",
     "output_type": "stream",
     "text": [
      "13\n"
     ]
    }
   ],
   "source": [
    "sum = 1\n",
    "n = int(input('Enter numbers of liers'))\n",
    "\n",
    "for i in range(1,n+1):\n",
    "    sum += i*2\n",
    "    \n",
    "print(sum)"
   ]
  },
  {
   "cell_type": "code",
   "execution_count": 3,
   "id": "0e7d4d9c-479e-4c9d-9501-94f93a969b82",
   "metadata": {},
   "outputs": [
    {
     "name": "stdin",
     "output_type": "stream",
     "text": [
      " 5\n",
      " 10\n"
     ]
    },
    {
     "name": "stdout",
     "output_type": "stream",
     "text": [
      "120\n"
     ]
    }
   ],
   "source": [
    "\n",
    "n = int(input())\n",
    "m = int(input())\n",
    "\n",
    "f_n = n-1\n",
    "r_n = 3\n",
    "total = f_n*m*r_n\n",
    "print(total)"
   ]
  },
  {
   "cell_type": "code",
   "execution_count": null,
   "id": "6a550f9a-3538-42ca-a520-0d8102a013dc",
   "metadata": {},
   "outputs": [
    {
     "name": "stdin",
     "output_type": "stream",
     "text": [
      " 12\n",
      " 5\n"
     ]
    }
   ],
   "source": [
    "\n",
    "a = int(input())\n",
    "b = int(input())\n",
    "qu = 0\n",
    "re = 0\n",
    "while a>0 and b>0:\n",
    "    qu += a//b\n",
    "    re += a%b\n",
    "    \n",
    "print(qu,re)"
   ]
  },
  {
   "cell_type": "code",
   "execution_count": 11,
   "id": "631cf4e1-eaf3-4610-89fb-b470c100f1e5",
   "metadata": {},
   "outputs": [
    {
     "name": "stdin",
     "output_type": "stream",
     "text": [
      " 1\n",
      " 2\n",
      " 3\n"
     ]
    },
    {
     "name": "stdout",
     "output_type": "stream",
     "text": [
      "6 11\n"
     ]
    }
   ],
   "source": [
    "\n",
    "a = int(input())\n",
    "b = int(input())\n",
    "c = int(input())\n",
    "\n",
    "v = a*b*c\n",
    "s =a*b + b*c + a*c\n",
    "\n",
    "print(v, s)\n"
   ]
  },
  {
   "cell_type": "code",
   "execution_count": 15,
   "id": "a5a3abef-5d07-4cb8-9850-da329e3d7b75",
   "metadata": {},
   "outputs": [
    {
     "name": "stdin",
     "output_type": "stream",
     "text": [
      " 1235\n"
     ]
    },
    {
     "name": "stdout",
     "output_type": "stream",
     "text": [
      "6\n"
     ]
    }
   ],
   "source": [
    "n = int(input())\n",
    "\n",
    "addition = n%10\n",
    "\n",
    "while n>9:\n",
    "    n = n//10\n",
    "\n",
    "addition += n\n",
    "    \n",
    "    \n",
    "print(addition)"
   ]
  },
  {
   "cell_type": "code",
   "execution_count": 16,
   "id": "6ac0425b-de2e-43fd-9eb7-799ea74edcb8",
   "metadata": {},
   "outputs": [
    {
     "name": "stdin",
     "output_type": "stream",
     "text": [
      " 3\n"
     ]
    },
    {
     "name": "stdout",
     "output_type": "stream",
     "text": [
      "54 27\n"
     ]
    }
   ],
   "source": [
    "a = int(input())\n",
    "\n",
    "s = 6*(a**2)\n",
    "v = a**3\n",
    "\n",
    "print(s, v)\n"
   ]
  },
  {
   "cell_type": "code",
   "execution_count": 18,
   "id": "52f14962-ff0e-4e7a-a6c9-5960805b1588",
   "metadata": {},
   "outputs": [
    {
     "name": "stdin",
     "output_type": "stream",
     "text": [
      " 10\n",
      " 100\n"
     ]
    },
    {
     "name": "stdout",
     "output_type": "stream",
     "text": [
      "10 100\n"
     ]
    }
   ],
   "source": [
    "a = int(input())\n",
    "b = int(input())\n",
    "\n",
    "if a > b:\n",
    "    a , b = b, a\n",
    "    \n",
    "print(a,b)\n"
   ]
  },
  {
   "cell_type": "code",
   "execution_count": 21,
   "id": "9bc9bf6f-3c43-446d-a0fe-066db2250eef",
   "metadata": {},
   "outputs": [
    {
     "name": "stdin",
     "output_type": "stream",
     "text": [
      "Enter a first number: 2\n",
      "Enter a second number: 3\n",
      "Enter a third number: 5\n"
     ]
    },
    {
     "name": "stdout",
     "output_type": "stream",
     "text": [
      "3\n"
     ]
    }
   ],
   "source": [
    "a = input('Enter a first number:')\n",
    "b =  input('Enter a second number:')\n",
    "c = input('Enter a third number:')\n",
    "\n",
    "if a == b and b == c:\n",
    "    print('1')\n",
    "elif a == b or b == c or a == c:\n",
    "    print('2')\n",
    "else:\n",
    "    print('3')"
   ]
  },
  {
   "cell_type": "code",
   "execution_count": 33,
   "id": "45bc6129-1b3a-4136-b1cf-46f5a767795f",
   "metadata": {},
   "outputs": [
    {
     "name": "stdin",
     "output_type": "stream",
     "text": [
      "Enter length of cake 35\n",
      "Enter width of cake 20\n",
      "Enter radius of table 70\n"
     ]
    },
    {
     "name": "stdout",
     "output_type": "stream",
     "text": [
      "YES.It can be\n"
     ]
    }
   ],
   "source": [
    "l = int(input('Enter length of cake'))\n",
    "w = int(input('Enter width of cake'))\n",
    "r = int(input('Enter radius of table'))\n",
    "\n",
    "s_cake = (l**2 + w**2)**(1/2)\n",
    "\n",
    "if r > s_cake:\n",
    "    print('YES.It can be')\n",
    "else:\n",
    "    print('No.It cannot')"
   ]
  },
  {
   "cell_type": "code",
   "execution_count": 43,
   "id": "22efe513-2f15-46ef-b238-0dd0cf6025dc",
   "metadata": {},
   "outputs": [
    {
     "name": "stdin",
     "output_type": "stream",
     "text": [
      " 3\n"
     ]
    },
    {
     "name": "stdout",
     "output_type": "stream",
     "text": [
      "Initial\n"
     ]
    }
   ],
   "source": [
    "i = int(input())\n",
    "\n",
    "\n",
    "while 1<i<13:\n",
    "    if 1<i<4:\n",
    "        print('Initial')\n",
    "    elif 4<i<7:\n",
    "        print('Average')\n",
    "    elif 7<i<10:\n",
    "        print('Sufficient')\n",
    "    else:\n",
    "        print('High')\n",
    "    break\n",
    "\n",
    "    \n",
    "        \n"
   ]
  },
  {
   "cell_type": "code",
   "execution_count": 47,
   "id": "b777c92e-a165-4824-99f6-5f3be079f3a6",
   "metadata": {},
   "outputs": [
    {
     "name": "stdin",
     "output_type": "stream",
     "text": [
      "Enter the height: 2\n",
      "Enter the width: 3\n",
      "Enter the length: 4\n",
      "Enter the k: 5\n"
     ]
    },
    {
     "name": "stdout",
     "output_type": "stream",
     "text": [
      "5\n"
     ]
    }
   ],
   "source": [
    "\n",
    "\n",
    "h = int(input('Enter the height:'))\n",
    "w = int(input('Enter the width:'))\n",
    "l = int(input('Enter the length:'))\n",
    "k = int(input('Enter the k:'))\n",
    "\n",
    "v = h*w*l\n",
    "print((v + k -1)//k)\n"
   ]
  },
  {
   "cell_type": "code",
   "execution_count": 51,
   "id": "0c3c9329-83d7-436d-a571-0e093b96661f",
   "metadata": {},
   "outputs": [
    {
     "name": "stdin",
     "output_type": "stream",
     "text": [
      " 4\n",
      " 5\n",
      " 6\n",
      " 10\n",
      " 20\n"
     ]
    },
    {
     "name": "stdout",
     "output_type": "stream",
     "text": [
      "YES\n"
     ]
    }
   ],
   "source": [
    "\n",
    "a = int(input())\n",
    "b = int(input())\n",
    "c = int(input())\n",
    "x = int(input())\n",
    "y = int(input())\n",
    "\n",
    "size_dw = x*y\n",
    "size_wrd = a*b*c\n",
    "\n",
    "if size_dw >= size_wrd:\n",
    "    print('YES')\n",
    "else:\n",
    "    print('NO')\n",
    "\n",
    "\n"
   ]
  },
  {
   "cell_type": "code",
   "execution_count": 66,
   "id": "a9e45878-f6b2-448c-a5cb-be3051d5730e",
   "metadata": {},
   "outputs": [
    {
     "name": "stdin",
     "output_type": "stream",
     "text": [
      " 12\n"
     ]
    },
    {
     "name": "stdout",
     "output_type": "stream",
     "text": [
      "Winter\n"
     ]
    }
   ],
   "source": [
    "\n",
    "i = int(input())\n",
    "\n",
    "while i in range(1,13):\n",
    "    if 3<i<6:\n",
    "        print('Spring')\n",
    "    elif 6<i<9:\n",
    "        print('Summer')\n",
    "    elif 9<i<12:\n",
    "        print('Autumn')\n",
    "    else:\n",
    "        print('Winter')\n",
    "    break\n",
    "    \n",
    "        \n",
    "\n"
   ]
  },
  {
   "cell_type": "code",
   "execution_count": 81,
   "id": "2e6a0907-881d-438f-91cb-5a6d88105e31",
   "metadata": {},
   "outputs": [
    {
     "name": "stdin",
     "output_type": "stream",
     "text": [
      "Enter n: 4\n",
      " 1\n",
      " 2\n",
      " 3\n",
      " 4\n"
     ]
    },
    {
     "name": "stdout",
     "output_type": "stream",
     "text": [
      "The max value is 4.\n"
     ]
    }
   ],
   "source": [
    "\n",
    "n = int(input('Enter n:'))\n",
    "cntr = 0\n",
    "for i in range(n):\n",
    "    val = int(input())\n",
    "    if cntr == 0:\n",
    "        maximum = val\n",
    "    if val > maximum :\n",
    "        maximum = val\n",
    "        \n",
    "print(f'The max value is {maximum}.')\n",
    "        \n",
    "    "
   ]
  },
  {
   "cell_type": "code",
   "execution_count": null,
   "id": "b65206d2-4215-4a41-a1b0-d17f63903d3d",
   "metadata": {},
   "outputs": [],
   "source": []
  }
 ],
 "metadata": {
  "kernelspec": {
   "display_name": "Python 3 (ipykernel)",
   "language": "python",
   "name": "python3"
  },
  "language_info": {
   "codemirror_mode": {
    "name": "ipython",
    "version": 3
   },
   "file_extension": ".py",
   "mimetype": "text/x-python",
   "name": "python",
   "nbconvert_exporter": "python",
   "pygments_lexer": "ipython3",
   "version": "3.9.13"
  }
 },
 "nbformat": 4,
 "nbformat_minor": 5
}
