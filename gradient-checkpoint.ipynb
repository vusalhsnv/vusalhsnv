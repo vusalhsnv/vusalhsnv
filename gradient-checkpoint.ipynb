{
 "cells": [
  {
   "cell_type": "code",
   "execution_count": 76,
   "id": "ba879af2",
   "metadata": {},
   "outputs": [],
   "source": [
    "import pandas as pd\n",
    "import warnings\n",
    "data = pd.read_csv('turboaz.csv')"
   ]
  },
  {
   "cell_type": "code",
   "execution_count": 77,
   "id": "b0060d76",
   "metadata": {},
   "outputs": [
    {
     "data": {
      "text/html": [
       "<div>\n",
       "<style scoped>\n",
       "    .dataframe tbody tr th:only-of-type {\n",
       "        vertical-align: middle;\n",
       "    }\n",
       "\n",
       "    .dataframe tbody tr th {\n",
       "        vertical-align: top;\n",
       "    }\n",
       "\n",
       "    .dataframe thead th {\n",
       "        text-align: right;\n",
       "    }\n",
       "</style>\n",
       "<table border=\"1\" class=\"dataframe\">\n",
       "  <thead>\n",
       "    <tr style=\"text-align: right;\">\n",
       "      <th></th>\n",
       "      <th>Sheher</th>\n",
       "      <th>Marka</th>\n",
       "      <th>Model</th>\n",
       "      <th>Buraxilish ili</th>\n",
       "      <th>Ban novu</th>\n",
       "      <th>Reng</th>\n",
       "      <th>Muherrikin hecmi</th>\n",
       "      <th>Muherrikin gucu</th>\n",
       "      <th>Yanacaq novu</th>\n",
       "      <th>Yurush</th>\n",
       "      <th>Suretler qutusu</th>\n",
       "      <th>Oturucu</th>\n",
       "      <th>Yeni</th>\n",
       "      <th>Qiymet</th>\n",
       "      <th>Extra Info</th>\n",
       "      <th>Seller comment</th>\n",
       "    </tr>\n",
       "  </thead>\n",
       "  <tbody>\n",
       "    <tr>\n",
       "      <th>0</th>\n",
       "      <td>Sumqayıt</td>\n",
       "      <td>Mercedes</td>\n",
       "      <td>C 200</td>\n",
       "      <td>1999</td>\n",
       "      <td>Sedan</td>\n",
       "      <td>Qara</td>\n",
       "      <td>2.0 L</td>\n",
       "      <td>175 a.g.</td>\n",
       "      <td>Benzin</td>\n",
       "      <td>366 000 km</td>\n",
       "      <td>Avtomat</td>\n",
       "      <td>Arxa</td>\n",
       "      <td>Xeyr</td>\n",
       "      <td>12500 AZN</td>\n",
       "      <td>Kreditdədir</td>\n",
       "      <td>Barter mümkündür</td>\n",
       "    </tr>\n",
       "    <tr>\n",
       "      <th>1</th>\n",
       "      <td>Bakı</td>\n",
       "      <td>Mercedes</td>\n",
       "      <td>C 180</td>\n",
       "      <td>2014</td>\n",
       "      <td>Sedan</td>\n",
       "      <td>Qara</td>\n",
       "      <td>1.6 L</td>\n",
       "      <td>167 a.g.</td>\n",
       "      <td>Benzin</td>\n",
       "      <td>102 000 km</td>\n",
       "      <td>Avtomat</td>\n",
       "      <td>Arxa</td>\n",
       "      <td>Xeyr</td>\n",
       "      <td>31500 $</td>\n",
       "      <td>Barter mümkündür</td>\n",
       "      <td>Yüngül lehimli disklər,ABS,Yağış sensoru,Mərkə...</td>\n",
       "    </tr>\n",
       "    <tr>\n",
       "      <th>2</th>\n",
       "      <td>Sumqayıt</td>\n",
       "      <td>Mercedes</td>\n",
       "      <td>C 240</td>\n",
       "      <td>2002</td>\n",
       "      <td>Sedan</td>\n",
       "      <td>Qara</td>\n",
       "      <td>2.6 L</td>\n",
       "      <td>177 a.g.</td>\n",
       "      <td>Benzin</td>\n",
       "      <td>469 700 km</td>\n",
       "      <td>Avtomat</td>\n",
       "      <td>Arxa</td>\n",
       "      <td>Xeyr</td>\n",
       "      <td>11700 AZN</td>\n",
       "      <td>Kreditdədir</td>\n",
       "      <td>Barter mümkündür</td>\n",
       "    </tr>\n",
       "    <tr>\n",
       "      <th>3</th>\n",
       "      <td>Şirvan</td>\n",
       "      <td>Mercedes</td>\n",
       "      <td>C 180</td>\n",
       "      <td>1998</td>\n",
       "      <td>Sedan</td>\n",
       "      <td>Göy</td>\n",
       "      <td>1.8 L</td>\n",
       "      <td>125 a.g.</td>\n",
       "      <td>Benzin</td>\n",
       "      <td>556 680 km</td>\n",
       "      <td>Avtomat</td>\n",
       "      <td>Arxa</td>\n",
       "      <td>Xeyr</td>\n",
       "      <td>9700 AZN</td>\n",
       "      <td>Yüngül lehimli disklər,ABS,Mərkəzi qapanma,Kon...</td>\n",
       "      <td>Mawin BAKIDADI. Tecili satilir yaxwi veziyetde...</td>\n",
       "    </tr>\n",
       "    <tr>\n",
       "      <th>4</th>\n",
       "      <td>Sumqayıt</td>\n",
       "      <td>Mercedes</td>\n",
       "      <td>C 220</td>\n",
       "      <td>2000</td>\n",
       "      <td>Sedan</td>\n",
       "      <td>Gümüşü</td>\n",
       "      <td>2.2 L</td>\n",
       "      <td>150 a.g.</td>\n",
       "      <td>Dizel</td>\n",
       "      <td>300 000 km</td>\n",
       "      <td>Avtomat</td>\n",
       "      <td>Arxa</td>\n",
       "      <td>Xeyr</td>\n",
       "      <td>12700 AZN</td>\n",
       "      <td>Yüngül lehimli disklər,ABS,Mərkəzi qapanma,Par...</td>\n",
       "      <td>Vurugu udari deyisen detali curuyu qetiyyen yo...</td>\n",
       "    </tr>\n",
       "    <tr>\n",
       "      <th>...</th>\n",
       "      <td>...</td>\n",
       "      <td>...</td>\n",
       "      <td>...</td>\n",
       "      <td>...</td>\n",
       "      <td>...</td>\n",
       "      <td>...</td>\n",
       "      <td>...</td>\n",
       "      <td>...</td>\n",
       "      <td>...</td>\n",
       "      <td>...</td>\n",
       "      <td>...</td>\n",
       "      <td>...</td>\n",
       "      <td>...</td>\n",
       "      <td>...</td>\n",
       "      <td>...</td>\n",
       "      <td>...</td>\n",
       "    </tr>\n",
       "    <tr>\n",
       "      <th>1323</th>\n",
       "      <td>Bakı</td>\n",
       "      <td>Mercedes</td>\n",
       "      <td>C 180</td>\n",
       "      <td>1996</td>\n",
       "      <td>Sedan</td>\n",
       "      <td>Boz</td>\n",
       "      <td>1.8 L</td>\n",
       "      <td>122 a.g.</td>\n",
       "      <td>Benzin</td>\n",
       "      <td>325 000 km</td>\n",
       "      <td>Avtomat</td>\n",
       "      <td>Arxa</td>\n",
       "      <td>Xeyr</td>\n",
       "      <td>8800 AZN</td>\n",
       "      <td>Yüngül lehimli disklər,Lyuk</td>\n",
       "      <td>Mawin ozumundu 10ildi mendedi udar gormeyib vu...</td>\n",
       "    </tr>\n",
       "    <tr>\n",
       "      <th>1324</th>\n",
       "      <td>Sumqayıt</td>\n",
       "      <td>Mercedes</td>\n",
       "      <td>C 180</td>\n",
       "      <td>1994</td>\n",
       "      <td>Sedan</td>\n",
       "      <td>Bənövşəyi</td>\n",
       "      <td>1.8 L</td>\n",
       "      <td>122 a.g.</td>\n",
       "      <td>Benzin</td>\n",
       "      <td>280 000 km</td>\n",
       "      <td>Avtomat</td>\n",
       "      <td>Arxa</td>\n",
       "      <td>Xeyr</td>\n",
       "      <td>6300 AZN</td>\n",
       "      <td>Yüngül lehimli disklər,ABS,Lyuk,Yağış sensoru,...</td>\n",
       "      <td>Normal maşindi ...otur sūr..problemi yoxdu..öz...</td>\n",
       "    </tr>\n",
       "    <tr>\n",
       "      <th>1325</th>\n",
       "      <td>Bakı</td>\n",
       "      <td>Mercedes</td>\n",
       "      <td>C 230</td>\n",
       "      <td>1998</td>\n",
       "      <td>Sedan</td>\n",
       "      <td>Ağ</td>\n",
       "      <td>2.3 L</td>\n",
       "      <td>150 a.g.</td>\n",
       "      <td>Benzin</td>\n",
       "      <td>272 000 km</td>\n",
       "      <td>Avtomat</td>\n",
       "      <td>Arxa</td>\n",
       "      <td>Xeyr</td>\n",
       "      <td>10900 AZN</td>\n",
       "      <td>Yüngül lehimli disklər,ABS,Lyuk,Mərkəzi qapanm...</td>\n",
       "      <td>MASHIN TECILI SATILIR!! Mashin tam saz veziyet...</td>\n",
       "    </tr>\n",
       "    <tr>\n",
       "      <th>1326</th>\n",
       "      <td>Qusar</td>\n",
       "      <td>Mercedes</td>\n",
       "      <td>C 240</td>\n",
       "      <td>2000</td>\n",
       "      <td>Sedan</td>\n",
       "      <td>Gümüşü</td>\n",
       "      <td>2.4 L</td>\n",
       "      <td>170 a.g.</td>\n",
       "      <td>Benzin</td>\n",
       "      <td>207 000 km</td>\n",
       "      <td>Avtomat</td>\n",
       "      <td>Arxa</td>\n",
       "      <td>Xeyr</td>\n",
       "      <td>11300 AZN</td>\n",
       "      <td>Barter mümkündür</td>\n",
       "      <td>Yüngül lehimli disklər,ABS,Yağış sensoru,Mərkə...</td>\n",
       "    </tr>\n",
       "    <tr>\n",
       "      <th>1327</th>\n",
       "      <td>Bakı</td>\n",
       "      <td>Mercedes</td>\n",
       "      <td>C 220</td>\n",
       "      <td>1996</td>\n",
       "      <td>Sedan</td>\n",
       "      <td>Qara</td>\n",
       "      <td>2.2 L</td>\n",
       "      <td>146 a.g.</td>\n",
       "      <td>Benzin</td>\n",
       "      <td>255 700 km</td>\n",
       "      <td>Avtomat</td>\n",
       "      <td>Arxa</td>\n",
       "      <td>Xeyr</td>\n",
       "      <td>10500 AZN</td>\n",
       "      <td>Yüngül lehimli disklər,ABS,Lyuk,Mərkəzi qapanm...</td>\n",
       "      <td>Kondisioner klimat kontrol, panarama lyuk, otu...</td>\n",
       "    </tr>\n",
       "  </tbody>\n",
       "</table>\n",
       "<p>1328 rows × 16 columns</p>\n",
       "</div>"
      ],
      "text/plain": [
       "        Sheher     Marka  Model  Buraxilish ili Ban novu       Reng  \\\n",
       "0     Sumqayıt  Mercedes  C 200            1999    Sedan       Qara   \n",
       "1         Bakı  Mercedes  C 180            2014    Sedan       Qara   \n",
       "2     Sumqayıt  Mercedes  C 240            2002    Sedan       Qara   \n",
       "3       Şirvan  Mercedes  C 180            1998    Sedan        Göy   \n",
       "4     Sumqayıt  Mercedes  C 220            2000    Sedan     Gümüşü   \n",
       "...        ...       ...    ...             ...      ...        ...   \n",
       "1323      Bakı  Mercedes  C 180            1996    Sedan        Boz   \n",
       "1324  Sumqayıt  Mercedes  C 180            1994    Sedan  Bənövşəyi   \n",
       "1325      Bakı  Mercedes  C 230            1998    Sedan         Ağ   \n",
       "1326     Qusar  Mercedes  C 240            2000    Sedan     Gümüşü   \n",
       "1327      Bakı  Mercedes  C 220            1996    Sedan       Qara   \n",
       "\n",
       "     Muherrikin hecmi Muherrikin gucu Yanacaq novu      Yurush  \\\n",
       "0               2.0 L        175 a.g.       Benzin  366 000 km   \n",
       "1               1.6 L        167 a.g.       Benzin  102 000 km   \n",
       "2               2.6 L        177 a.g.       Benzin  469 700 km   \n",
       "3               1.8 L        125 a.g.       Benzin  556 680 km   \n",
       "4               2.2 L        150 a.g.        Dizel  300 000 km   \n",
       "...               ...             ...          ...         ...   \n",
       "1323            1.8 L        122 a.g.       Benzin  325 000 km   \n",
       "1324            1.8 L        122 a.g.       Benzin  280 000 km   \n",
       "1325            2.3 L        150 a.g.       Benzin  272 000 km   \n",
       "1326            2.4 L        170 a.g.       Benzin  207 000 km   \n",
       "1327            2.2 L        146 a.g.       Benzin  255 700 km   \n",
       "\n",
       "     Suretler qutusu Oturucu  Yeni     Qiymet  \\\n",
       "0            Avtomat    Arxa  Xeyr  12500 AZN   \n",
       "1            Avtomat    Arxa  Xeyr    31500 $   \n",
       "2            Avtomat    Arxa  Xeyr  11700 AZN   \n",
       "3            Avtomat    Arxa  Xeyr   9700 AZN   \n",
       "4            Avtomat    Arxa  Xeyr  12700 AZN   \n",
       "...              ...     ...   ...        ...   \n",
       "1323         Avtomat    Arxa  Xeyr   8800 AZN   \n",
       "1324         Avtomat    Arxa  Xeyr   6300 AZN   \n",
       "1325         Avtomat    Arxa  Xeyr  10900 AZN   \n",
       "1326         Avtomat    Arxa  Xeyr  11300 AZN   \n",
       "1327         Avtomat    Arxa  Xeyr  10500 AZN   \n",
       "\n",
       "                                             Extra Info  \\\n",
       "0                                           Kreditdədir   \n",
       "1                                      Barter mümkündür   \n",
       "2                                           Kreditdədir   \n",
       "3     Yüngül lehimli disklər,ABS,Mərkəzi qapanma,Kon...   \n",
       "4     Yüngül lehimli disklər,ABS,Mərkəzi qapanma,Par...   \n",
       "...                                                 ...   \n",
       "1323                        Yüngül lehimli disklər,Lyuk   \n",
       "1324  Yüngül lehimli disklər,ABS,Lyuk,Yağış sensoru,...   \n",
       "1325  Yüngül lehimli disklər,ABS,Lyuk,Mərkəzi qapanm...   \n",
       "1326                                   Barter mümkündür   \n",
       "1327  Yüngül lehimli disklər,ABS,Lyuk,Mərkəzi qapanm...   \n",
       "\n",
       "                                         Seller comment  \n",
       "0                                      Barter mümkündür  \n",
       "1     Yüngül lehimli disklər,ABS,Yağış sensoru,Mərkə...  \n",
       "2                                      Barter mümkündür  \n",
       "3     Mawin BAKIDADI. Tecili satilir yaxwi veziyetde...  \n",
       "4     Vurugu udari deyisen detali curuyu qetiyyen yo...  \n",
       "...                                                 ...  \n",
       "1323  Mawin ozumundu 10ildi mendedi udar gormeyib vu...  \n",
       "1324  Normal maşindi ...otur sūr..problemi yoxdu..öz...  \n",
       "1325  MASHIN TECILI SATILIR!! Mashin tam saz veziyet...  \n",
       "1326  Yüngül lehimli disklər,ABS,Yağış sensoru,Mərkə...  \n",
       "1327  Kondisioner klimat kontrol, panarama lyuk, otu...  \n",
       "\n",
       "[1328 rows x 16 columns]"
      ]
     },
     "execution_count": 77,
     "metadata": {},
     "output_type": "execute_result"
    }
   ],
   "source": [
    "data"
   ]
  },
  {
   "cell_type": "code",
   "execution_count": 78,
   "id": "733c1762",
   "metadata": {},
   "outputs": [],
   "source": [
    "df = data[['Buraxilish ili','Yurush','Qiymet']]"
   ]
  },
  {
   "cell_type": "code",
   "execution_count": 79,
   "id": "2b58af6b",
   "metadata": {},
   "outputs": [
    {
     "data": {
      "text/html": [
       "<div>\n",
       "<style scoped>\n",
       "    .dataframe tbody tr th:only-of-type {\n",
       "        vertical-align: middle;\n",
       "    }\n",
       "\n",
       "    .dataframe tbody tr th {\n",
       "        vertical-align: top;\n",
       "    }\n",
       "\n",
       "    .dataframe thead th {\n",
       "        text-align: right;\n",
       "    }\n",
       "</style>\n",
       "<table border=\"1\" class=\"dataframe\">\n",
       "  <thead>\n",
       "    <tr style=\"text-align: right;\">\n",
       "      <th></th>\n",
       "      <th>Buraxilish ili</th>\n",
       "      <th>Yurush</th>\n",
       "      <th>Qiymet</th>\n",
       "    </tr>\n",
       "  </thead>\n",
       "  <tbody>\n",
       "    <tr>\n",
       "      <th>0</th>\n",
       "      <td>1999</td>\n",
       "      <td>366 000 km</td>\n",
       "      <td>12500 AZN</td>\n",
       "    </tr>\n",
       "    <tr>\n",
       "      <th>1</th>\n",
       "      <td>2014</td>\n",
       "      <td>102 000 km</td>\n",
       "      <td>31500 $</td>\n",
       "    </tr>\n",
       "    <tr>\n",
       "      <th>2</th>\n",
       "      <td>2002</td>\n",
       "      <td>469 700 km</td>\n",
       "      <td>11700 AZN</td>\n",
       "    </tr>\n",
       "    <tr>\n",
       "      <th>3</th>\n",
       "      <td>1998</td>\n",
       "      <td>556 680 km</td>\n",
       "      <td>9700 AZN</td>\n",
       "    </tr>\n",
       "    <tr>\n",
       "      <th>4</th>\n",
       "      <td>2000</td>\n",
       "      <td>300 000 km</td>\n",
       "      <td>12700 AZN</td>\n",
       "    </tr>\n",
       "    <tr>\n",
       "      <th>...</th>\n",
       "      <td>...</td>\n",
       "      <td>...</td>\n",
       "      <td>...</td>\n",
       "    </tr>\n",
       "    <tr>\n",
       "      <th>1323</th>\n",
       "      <td>1996</td>\n",
       "      <td>325 000 km</td>\n",
       "      <td>8800 AZN</td>\n",
       "    </tr>\n",
       "    <tr>\n",
       "      <th>1324</th>\n",
       "      <td>1994</td>\n",
       "      <td>280 000 km</td>\n",
       "      <td>6300 AZN</td>\n",
       "    </tr>\n",
       "    <tr>\n",
       "      <th>1325</th>\n",
       "      <td>1998</td>\n",
       "      <td>272 000 km</td>\n",
       "      <td>10900 AZN</td>\n",
       "    </tr>\n",
       "    <tr>\n",
       "      <th>1326</th>\n",
       "      <td>2000</td>\n",
       "      <td>207 000 km</td>\n",
       "      <td>11300 AZN</td>\n",
       "    </tr>\n",
       "    <tr>\n",
       "      <th>1327</th>\n",
       "      <td>1996</td>\n",
       "      <td>255 700 km</td>\n",
       "      <td>10500 AZN</td>\n",
       "    </tr>\n",
       "  </tbody>\n",
       "</table>\n",
       "<p>1328 rows × 3 columns</p>\n",
       "</div>"
      ],
      "text/plain": [
       "      Buraxilish ili      Yurush     Qiymet\n",
       "0               1999  366 000 km  12500 AZN\n",
       "1               2014  102 000 km    31500 $\n",
       "2               2002  469 700 km  11700 AZN\n",
       "3               1998  556 680 km   9700 AZN\n",
       "4               2000  300 000 km  12700 AZN\n",
       "...              ...         ...        ...\n",
       "1323            1996  325 000 km   8800 AZN\n",
       "1324            1994  280 000 km   6300 AZN\n",
       "1325            1998  272 000 km  10900 AZN\n",
       "1326            2000  207 000 km  11300 AZN\n",
       "1327            1996  255 700 km  10500 AZN\n",
       "\n",
       "[1328 rows x 3 columns]"
      ]
     },
     "execution_count": 79,
     "metadata": {},
     "output_type": "execute_result"
    }
   ],
   "source": [
    "df\n"
   ]
  },
  {
   "cell_type": "code",
   "execution_count": 80,
   "id": "2ad5ed9e",
   "metadata": {},
   "outputs": [
    {
     "data": {
      "text/plain": [
       "Buraxilish ili     int64\n",
       "Yurush            object\n",
       "Qiymet            object\n",
       "dtype: object"
      ]
     },
     "execution_count": 80,
     "metadata": {},
     "output_type": "execute_result"
    }
   ],
   "source": [
    "df.dtypes"
   ]
  },
  {
   "cell_type": "code",
   "execution_count": 81,
   "id": "b31db35a",
   "metadata": {},
   "outputs": [
    {
     "name": "stderr",
     "output_type": "stream",
     "text": [
      "C:\\Users\\Vusal\\AppData\\Local\\Temp\\ipykernel_15676\\3281779921.py:1: SettingWithCopyWarning: \n",
      "A value is trying to be set on a copy of a slice from a DataFrame.\n",
      "Try using .loc[row_indexer,col_indexer] = value instead\n",
      "\n",
      "See the caveats in the documentation: https://pandas.pydata.org/pandas-docs/stable/user_guide/indexing.html#returning-a-view-versus-a-copy\n",
      "  df['Yurush'] = df['Yurush'].apply(lambda x: int(''.join(str(x).split()[:-1])))\n"
     ]
    }
   ],
   "source": [
    "df['Yurush'] = df['Yurush'].apply(lambda x: int(''.join(str(x).split()[:-1])))"
   ]
  },
  {
   "cell_type": "code",
   "execution_count": 82,
   "id": "f1ecb7f7",
   "metadata": {},
   "outputs": [
    {
     "name": "stderr",
     "output_type": "stream",
     "text": [
      "C:\\Users\\Vusal\\AppData\\Local\\Temp\\ipykernel_15676\\301836575.py:9: SettingWithCopyWarning: \n",
      "A value is trying to be set on a copy of a slice from a DataFrame.\n",
      "Try using .loc[row_indexer,col_indexer] = value instead\n",
      "\n",
      "See the caveats in the documentation: https://pandas.pydata.org/pandas-docs/stable/user_guide/indexing.html#returning-a-view-versus-a-copy\n",
      "  df['Qiymet'] = df['Qiymet'].apply(cleanprice)\n"
     ]
    }
   ],
   "source": [
    "def cleanprice(col):\n",
    "    col = col.split()\n",
    "    if '$' in col:\n",
    "        res = float(''.join(col[:-1]))*1.7\n",
    "    else:\n",
    "        res = float(''.join(col[:-1]))\n",
    "    return res\n",
    "\n",
    "df['Qiymet'] = df['Qiymet'].apply(cleanprice)"
   ]
  },
  {
   "cell_type": "code",
   "execution_count": 83,
   "id": "d8306de3",
   "metadata": {},
   "outputs": [
    {
     "data": {
      "text/html": [
       "<div>\n",
       "<style scoped>\n",
       "    .dataframe tbody tr th:only-of-type {\n",
       "        vertical-align: middle;\n",
       "    }\n",
       "\n",
       "    .dataframe tbody tr th {\n",
       "        vertical-align: top;\n",
       "    }\n",
       "\n",
       "    .dataframe thead th {\n",
       "        text-align: right;\n",
       "    }\n",
       "</style>\n",
       "<table border=\"1\" class=\"dataframe\">\n",
       "  <thead>\n",
       "    <tr style=\"text-align: right;\">\n",
       "      <th></th>\n",
       "      <th>Buraxilish ili</th>\n",
       "      <th>Yurush</th>\n",
       "      <th>Qiymet</th>\n",
       "    </tr>\n",
       "  </thead>\n",
       "  <tbody>\n",
       "    <tr>\n",
       "      <th>0</th>\n",
       "      <td>1999</td>\n",
       "      <td>366000</td>\n",
       "      <td>12500.0</td>\n",
       "    </tr>\n",
       "    <tr>\n",
       "      <th>1</th>\n",
       "      <td>2014</td>\n",
       "      <td>102000</td>\n",
       "      <td>53550.0</td>\n",
       "    </tr>\n",
       "    <tr>\n",
       "      <th>2</th>\n",
       "      <td>2002</td>\n",
       "      <td>469700</td>\n",
       "      <td>11700.0</td>\n",
       "    </tr>\n",
       "    <tr>\n",
       "      <th>3</th>\n",
       "      <td>1998</td>\n",
       "      <td>556680</td>\n",
       "      <td>9700.0</td>\n",
       "    </tr>\n",
       "    <tr>\n",
       "      <th>4</th>\n",
       "      <td>2000</td>\n",
       "      <td>300000</td>\n",
       "      <td>12700.0</td>\n",
       "    </tr>\n",
       "    <tr>\n",
       "      <th>...</th>\n",
       "      <td>...</td>\n",
       "      <td>...</td>\n",
       "      <td>...</td>\n",
       "    </tr>\n",
       "    <tr>\n",
       "      <th>1323</th>\n",
       "      <td>1996</td>\n",
       "      <td>325000</td>\n",
       "      <td>8800.0</td>\n",
       "    </tr>\n",
       "    <tr>\n",
       "      <th>1324</th>\n",
       "      <td>1994</td>\n",
       "      <td>280000</td>\n",
       "      <td>6300.0</td>\n",
       "    </tr>\n",
       "    <tr>\n",
       "      <th>1325</th>\n",
       "      <td>1998</td>\n",
       "      <td>272000</td>\n",
       "      <td>10900.0</td>\n",
       "    </tr>\n",
       "    <tr>\n",
       "      <th>1326</th>\n",
       "      <td>2000</td>\n",
       "      <td>207000</td>\n",
       "      <td>11300.0</td>\n",
       "    </tr>\n",
       "    <tr>\n",
       "      <th>1327</th>\n",
       "      <td>1996</td>\n",
       "      <td>255700</td>\n",
       "      <td>10500.0</td>\n",
       "    </tr>\n",
       "  </tbody>\n",
       "</table>\n",
       "<p>1328 rows × 3 columns</p>\n",
       "</div>"
      ],
      "text/plain": [
       "      Buraxilish ili  Yurush   Qiymet\n",
       "0               1999  366000  12500.0\n",
       "1               2014  102000  53550.0\n",
       "2               2002  469700  11700.0\n",
       "3               1998  556680   9700.0\n",
       "4               2000  300000  12700.0\n",
       "...              ...     ...      ...\n",
       "1323            1996  325000   8800.0\n",
       "1324            1994  280000   6300.0\n",
       "1325            1998  272000  10900.0\n",
       "1326            2000  207000  11300.0\n",
       "1327            1996  255700  10500.0\n",
       "\n",
       "[1328 rows x 3 columns]"
      ]
     },
     "execution_count": 83,
     "metadata": {},
     "output_type": "execute_result"
    }
   ],
   "source": [
    "df"
   ]
  },
  {
   "cell_type": "code",
   "execution_count": 84,
   "id": "f3cc785c",
   "metadata": {},
   "outputs": [
    {
     "data": {
      "text/plain": [
       "Buraxilish ili      int64\n",
       "Yurush              int64\n",
       "Qiymet            float64\n",
       "dtype: object"
      ]
     },
     "execution_count": 84,
     "metadata": {},
     "output_type": "execute_result"
    }
   ],
   "source": [
    "df.dtypes"
   ]
  },
  {
   "cell_type": "code",
   "execution_count": 85,
   "id": "9600801b",
   "metadata": {},
   "outputs": [
    {
     "data": {
      "image/png": "[encoded data removed]",
      "text/plain": [
       "<Figure size 640x480 with 1 Axes>"
      ]
     },
     "metadata": {},
     "output_type": "display_data"
    }
   ],
   "source": [
    "import matplotlib.pyplot as plt\n",
    "plt.scatter(df['Yurush'],df['Qiymet'])\n",
    "plt.ylabel('Qiymet')\n",
    "plt.xlabel('Yurush')\n",
    "plt.show()"
   ]
  },
  {
   "cell_type": "code",
   "execution_count": 86,
   "id": "e13b4832",
   "metadata": {},
   "outputs": [
    {
     "data": {
      "image/png": "[encoded data removed]",
      "text/plain": [
       "<Figure size 640x480 with 1 Axes>"
      ]
     },
     "metadata": {},
     "output_type": "display_data"
    }
   ],
   "source": [
    "plt.scatter(df['Buraxilish ili'],df['Qiymet'])\n",
    "plt.ylabel('Qiymet')\n",
    "plt.xlabel('Buraxilish ili')\n",
    "plt.show()"
   ]
  },
  {
   "cell_type": "code",
   "execution_count": 87,
   "id": "51abcab7",
   "metadata": {},
   "outputs": [
    {
     "name": "stderr",
     "output_type": "stream",
     "text": [
      "C:\\Users\\Vusal\\AppData\\Local\\Temp\\ipykernel_15676\\1648686253.py:11: SettingWithCopyWarning: \n",
      "A value is trying to be set on a copy of a slice from a DataFrame.\n",
      "Try using .loc[row_indexer,col_indexer] = value instead\n",
      "\n",
      "See the caveats in the documentation: https://pandas.pydata.org/pandas-docs/stable/user_guide/indexing.html#returning-a-view-versus-a-copy\n",
      "  df['Yurush'] = (df['Yurush'] - ave) / (maxi - mini)\n",
      "C:\\Users\\Vusal\\AppData\\Local\\Temp\\ipykernel_15676\\1648686253.py:16: SettingWithCopyWarning: \n",
      "A value is trying to be set on a copy of a slice from a DataFrame.\n",
      "Try using .loc[row_indexer,col_indexer] = value instead\n",
      "\n",
      "See the caveats in the documentation: https://pandas.pydata.org/pandas-docs/stable/user_guide/indexing.html#returning-a-view-versus-a-copy\n",
      "  df['Buraxilish ili'] = (df['Buraxilish ili'] - ave) / (maxi - mini)\n",
      "C:\\Users\\Vusal\\AppData\\Local\\Temp\\ipykernel_15676\\1648686253.py:21: SettingWithCopyWarning: \n",
      "A value is trying to be set on a copy of a slice from a DataFrame.\n",
      "Try using .loc[row_indexer,col_indexer] = value instead\n",
      "\n",
      "See the caveats in the documentation: https://pandas.pydata.org/pandas-docs/stable/user_guide/indexing.html#returning-a-view-versus-a-copy\n",
      "  df['Qiymet'] = (df['Qiymet'] - ave) / (maxi - mini)\n"
     ]
    }
   ],
   "source": [
    "# def normalize(col, ave, maxi, mini):\n",
    "    \n",
    "#     col = (col - ave) / (maxi - mini)\n",
    "    \n",
    "#     return col\n",
    "\n",
    "reserved_data = df.copy()\n",
    "ave = df.Yurush.mean()\n",
    "maxi = df.Yurush.max()\n",
    "mini = df.Yurush.min()\n",
    "df['Yurush'] = (df['Yurush'] - ave) / (maxi - mini)\n",
    "\n",
    "ave = df['Buraxilish ili'].mean()\n",
    "maxi = df['Buraxilish ili'].max()\n",
    "mini = df['Buraxilish ili'].min()\n",
    "df['Buraxilish ili'] = (df['Buraxilish ili'] - ave) / (maxi - mini)\n",
    "\n",
    "ave = df.Qiymet.mean()\n",
    "maxi = df.Qiymet.max()\n",
    "mini = df.Qiymet.min()\n",
    "df['Qiymet'] = (df['Qiymet'] - ave) / (maxi - mini)"
   ]
  },
  {
   "cell_type": "code",
   "execution_count": 88,
   "id": "7cfdb55a",
   "metadata": {},
   "outputs": [
    {
     "data": {
      "text/html": [
       "<div>\n",
       "<style scoped>\n",
       "    .dataframe tbody tr th:only-of-type {\n",
       "        vertical-align: middle;\n",
       "    }\n",
       "\n",
       "    .dataframe tbody tr th {\n",
       "        vertical-align: top;\n",
       "    }\n",
       "\n",
       "    .dataframe thead th {\n",
       "        text-align: right;\n",
       "    }\n",
       "</style>\n",
       "<table border=\"1\" class=\"dataframe\">\n",
       "  <thead>\n",
       "    <tr style=\"text-align: right;\">\n",
       "      <th></th>\n",
       "      <th>Buraxilish ili</th>\n",
       "      <th>Yurush</th>\n",
       "      <th>Qiymet</th>\n",
       "    </tr>\n",
       "  </thead>\n",
       "  <tbody>\n",
       "    <tr>\n",
       "      <th>0</th>\n",
       "      <td>-0.029861</td>\n",
       "      <td>0.098573</td>\n",
       "      <td>-0.026598</td>\n",
       "    </tr>\n",
       "    <tr>\n",
       "      <th>1</th>\n",
       "      <td>0.487381</td>\n",
       "      <td>-0.202797</td>\n",
       "      <td>0.390704</td>\n",
       "    </tr>\n",
       "    <tr>\n",
       "      <th>2</th>\n",
       "      <td>0.073587</td>\n",
       "      <td>0.216952</td>\n",
       "      <td>-0.034731</td>\n",
       "    </tr>\n",
       "    <tr>\n",
       "      <th>3</th>\n",
       "      <td>-0.064344</td>\n",
       "      <td>0.316244</td>\n",
       "      <td>-0.055062</td>\n",
       "    </tr>\n",
       "    <tr>\n",
       "      <th>4</th>\n",
       "      <td>0.004622</td>\n",
       "      <td>0.023231</td>\n",
       "      <td>-0.024565</td>\n",
       "    </tr>\n",
       "    <tr>\n",
       "      <th>...</th>\n",
       "      <td>...</td>\n",
       "      <td>...</td>\n",
       "      <td>...</td>\n",
       "    </tr>\n",
       "    <tr>\n",
       "      <th>1323</th>\n",
       "      <td>-0.133309</td>\n",
       "      <td>0.051769</td>\n",
       "      <td>-0.064211</td>\n",
       "    </tr>\n",
       "    <tr>\n",
       "      <th>1324</th>\n",
       "      <td>-0.202275</td>\n",
       "      <td>0.000400</td>\n",
       "      <td>-0.089625</td>\n",
       "    </tr>\n",
       "    <tr>\n",
       "      <th>1325</th>\n",
       "      <td>-0.064344</td>\n",
       "      <td>-0.008733</td>\n",
       "      <td>-0.042863</td>\n",
       "    </tr>\n",
       "    <tr>\n",
       "      <th>1326</th>\n",
       "      <td>0.004622</td>\n",
       "      <td>-0.082934</td>\n",
       "      <td>-0.038797</td>\n",
       "    </tr>\n",
       "    <tr>\n",
       "      <th>1327</th>\n",
       "      <td>-0.133309</td>\n",
       "      <td>-0.027340</td>\n",
       "      <td>-0.046929</td>\n",
       "    </tr>\n",
       "  </tbody>\n",
       "</table>\n",
       "<p>1328 rows × 3 columns</p>\n",
       "</div>"
      ],
      "text/plain": [
       "      Buraxilish ili    Yurush    Qiymet\n",
       "0          -0.029861  0.098573 -0.026598\n",
       "1           0.487381 -0.202797  0.390704\n",
       "2           0.073587  0.216952 -0.034731\n",
       "3          -0.064344  0.316244 -0.055062\n",
       "4           0.004622  0.023231 -0.024565\n",
       "...              ...       ...       ...\n",
       "1323       -0.133309  0.051769 -0.064211\n",
       "1324       -0.202275  0.000400 -0.089625\n",
       "1325       -0.064344 -0.008733 -0.042863\n",
       "1326        0.004622 -0.082934 -0.038797\n",
       "1327       -0.133309 -0.027340 -0.046929\n",
       "\n",
       "[1328 rows x 3 columns]"
      ]
     },
     "execution_count": 88,
     "metadata": {},
     "output_type": "execute_result"
    }
   ],
   "source": [
    "df"
   ]
  },
  {
   "cell_type": "code",
   "execution_count": 89,
   "id": "5f079789",
   "metadata": {},
   "outputs": [],
   "source": [
    "df.columns = ['ProductionYear','Mileage','Price']"
   ]
  },
  {
   "cell_type": "code",
   "execution_count": 90,
   "id": "49735c3d",
   "metadata": {},
   "outputs": [
    {
     "data": {
      "text/html": [
       "<div>\n",
       "<style scoped>\n",
       "    .dataframe tbody tr th:only-of-type {\n",
       "        vertical-align: middle;\n",
       "    }\n",
       "\n",
       "    .dataframe tbody tr th {\n",
       "        vertical-align: top;\n",
       "    }\n",
       "\n",
       "    .dataframe thead th {\n",
       "        text-align: right;\n",
       "    }\n",
       "</style>\n",
       "<table border=\"1\" class=\"dataframe\">\n",
       "  <thead>\n",
       "    <tr style=\"text-align: right;\">\n",
       "      <th></th>\n",
       "      <th>ProductionYear</th>\n",
       "      <th>Mileage</th>\n",
       "      <th>Price</th>\n",
       "    </tr>\n",
       "  </thead>\n",
       "  <tbody>\n",
       "    <tr>\n",
       "      <th>0</th>\n",
       "      <td>-0.029861</td>\n",
       "      <td>0.098573</td>\n",
       "      <td>-0.026598</td>\n",
       "    </tr>\n",
       "    <tr>\n",
       "      <th>1</th>\n",
       "      <td>0.487381</td>\n",
       "      <td>-0.202797</td>\n",
       "      <td>0.390704</td>\n",
       "    </tr>\n",
       "    <tr>\n",
       "      <th>2</th>\n",
       "      <td>0.073587</td>\n",
       "      <td>0.216952</td>\n",
       "      <td>-0.034731</td>\n",
       "    </tr>\n",
       "    <tr>\n",
       "      <th>3</th>\n",
       "      <td>-0.064344</td>\n",
       "      <td>0.316244</td>\n",
       "      <td>-0.055062</td>\n",
       "    </tr>\n",
       "    <tr>\n",
       "      <th>4</th>\n",
       "      <td>0.004622</td>\n",
       "      <td>0.023231</td>\n",
       "      <td>-0.024565</td>\n",
       "    </tr>\n",
       "  </tbody>\n",
       "</table>\n",
       "</div>"
      ],
      "text/plain": [
       "   ProductionYear   Mileage     Price\n",
       "0       -0.029861  0.098573 -0.026598\n",
       "1        0.487381 -0.202797  0.390704\n",
       "2        0.073587  0.216952 -0.034731\n",
       "3       -0.064344  0.316244 -0.055062\n",
       "4        0.004622  0.023231 -0.024565"
      ]
     },
     "execution_count": 90,
     "metadata": {},
     "output_type": "execute_result"
    }
   ],
   "source": [
    "df.head()"
   ]
  },
  {
   "cell_type": "code",
   "execution_count": 91,
   "id": "edafb9f2",
   "metadata": {},
   "outputs": [],
   "source": [
    "import numpy as np\n",
    "\n"
   ]
  },
  {
   "cell_type": "code",
   "execution_count": 92,
   "id": "a3c88708",
   "metadata": {},
   "outputs": [],
   "source": [
    "x0 = [1] * len(df)\n",
    "x1 = df.ProductionYear\n",
    "x2 = df.Mileage\n",
    "y = df['Price']\n",
    "\n",
    "X = np.array([x0,x1,x2]).T\n",
    "W = np.array([0,11,5])"
   ]
  },
  {
   "cell_type": "code",
   "execution_count": 93,
   "id": "a8e14ce2",
   "metadata": {},
   "outputs": [
    {
     "data": {
      "text/plain": [
       "array([[ 1.        , -0.02986082,  0.09857315],\n",
       "       [ 1.        ,  0.48738056, -0.20279671],\n",
       "       [ 1.        ,  0.07358745,  0.21695214],\n",
       "       ...,\n",
       "       [ 1.        , -0.06434358, -0.00873279],\n",
       "       [ 1.        ,  0.00462194, -0.0829337 ],\n",
       "       [ 1.        , -0.1333091 , -0.02734009]])"
      ]
     },
     "execution_count": 93,
     "metadata": {},
     "output_type": "execute_result"
    }
   ],
   "source": [
    "X\n"
   ]
  },
  {
   "cell_type": "code",
   "execution_count": 94,
   "id": "cd5bc54e",
   "metadata": {},
   "outputs": [
    {
     "data": {
      "text/plain": [
       "array([ 0, 11,  5])"
      ]
     },
     "execution_count": 94,
     "metadata": {},
     "output_type": "execute_result"
    }
   ],
   "source": [
    "W"
   ]
  },
  {
   "cell_type": "code",
   "execution_count": 95,
   "id": "66a0cde3",
   "metadata": {},
   "outputs": [],
   "source": [
    "def costFun(X,y,W):\n",
    "    pred = X.dot(W)\n",
    "    res = np.sum(((pred - y)**2)/(2*len(y)))\n",
    "    \n",
    "    return res"
   ]
  },
  {
   "cell_type": "code",
   "execution_count": 96,
   "id": "de817260",
   "metadata": {},
   "outputs": [
    {
     "name": "stdout",
     "output_type": "stream",
     "text": [
      "1.3010803353674514\n"
     ]
    }
   ],
   "source": [
    "cost = costFun(X,y,W)\n",
    "\n",
    "print(cost)"
   ]
  },
  {
   "cell_type": "code",
   "execution_count": 97,
   "id": "03a61bd6",
   "metadata": {},
   "outputs": [],
   "source": [
    "\n",
    "\n",
    "def gradientDescent(X,Y,W,alpha = 0.001, iterations =10000 ):\n",
    "    \n",
    "    costH = []\n",
    "    \n",
    "    \n",
    "    \n",
    "    length = len(Y)\n",
    "    for i in range(0,iterations):\n",
    "#         if i % 1000 == 0:\n",
    "#             print('iteration %d: '%i)\n",
    "#             print(costFun(X,Y,W))\n",
    "            \n",
    "        h = X.dot(W)\n",
    "        diff = h - Y\n",
    "        g =  X.T.dot(diff) / length\n",
    "        \n",
    "        W = W - alpha * g\n",
    "        \n",
    "        cost = costFun(X,Y,W)\n",
    "        \n",
    "        costH.append(cost)\n",
    "    return W, costH"
   ]
  },
  {
   "cell_type": "code",
   "execution_count": 98,
   "id": "38f79036",
   "metadata": {},
   "outputs": [],
   "source": [
    "W2, cost = gradientDescent(X,y,W)"
   ]
  },
  {
   "cell_type": "code",
   "execution_count": 99,
   "id": "a0b500fb",
   "metadata": {},
   "outputs": [
    {
     "data": {
      "text/plain": [
       "[<matplotlib.lines.Line2D at 0x1f43b859520>]"
      ]
     },
     "execution_count": 99,
     "metadata": {},
     "output_type": "execute_result"
    },
    {
     "data": {
      "image/png": "[encoded data removed]",
      "text/plain": [
       "<Figure size 640x480 with 1 Axes>"
      ]
     },
     "metadata": {},
     "output_type": "display_data"
    }
   ],
   "source": [
    "plt.plot(cost)"
   ]
  },
  {
   "cell_type": "code",
   "execution_count": 103,
   "id": "e6f20c90",
   "metadata": {},
   "outputs": [],
   "source": [
    "mileage = 240000\n",
    "year = 2000\n",
    "outputprice = 11500\n",
    "\n",
    "mileage2 = (mileage - reserved_data['Yurush'].mean())/ reserved_data.Yurush.std()\n",
    "year2 = (year - reserved_data['Buraxilish ili'].mean())/ reserved_data['Buraxilish ili'].std()\n",
    "\n"
   ]
  },
  {
   "cell_type": "code",
   "execution_count": 110,
   "id": "cac47b22",
   "metadata": {},
   "outputs": [],
   "source": [
    "predicted = W2[0] * 1 + W2[1]* year2 + W2[2]*mileage2\n",
    "predicted = predicted * reserved_data['Qiymet'].std() + reserved_data['Qiymet'].mean()"
   ]
  },
  {
   "cell_type": "code",
   "execution_count": 111,
   "id": "a714bdff",
   "metadata": {},
   "outputs": [
    {
     "data": {
      "text/plain": [
       "404015.14625806356"
      ]
     },
     "execution_count": 111,
     "metadata": {},
     "output_type": "execute_result"
    }
   ],
   "source": [
    "predicted"
   ]
  },
  {
   "cell_type": "code",
   "execution_count": null,
   "id": "d1d1ae70",
   "metadata": {},
   "outputs": [],
   "source": []
  },
  {
   "cell_type": "code",
   "execution_count": null,
   "id": "0cbac26e",
   "metadata": {},
   "outputs": [],
   "source": []
  }
 ],
 "metadata": {
  "kernelspec": {
   "display_name": "Python 3 (ipykernel)",
   "language": "python",
   "name": "python3"
  },
  "language_info": {
   "codemirror_mode": {
    "name": "ipython",
    "version": 3
   },
   "file_extension": ".py",
   "mimetype": "text/x-python",
   "name": "python",
   "nbconvert_exporter": "python",
   "pygments_lexer": "ipython3",
   "version": "3.9.13"
  }
 },
 "nbformat": 4,
 "nbformat_minor": 5
}
